{
 "cells": [
  {
   "cell_type": "code",
   "execution_count": 2,
   "id": "36112ca1",
   "metadata": {},
   "outputs": [],
   "source": [
    "from sklearn import tree\n",
    "# 0 = Smooth 1=Bumpy\n",
    "X = [[140, 0], [130, 0], [150, 1], [170, 1]]\n",
    "# 0 = apple 1 = Orange\n",
    "Y = [0, 0, 1, 1]\n",
    "clf = tree.DecisionTreeClassifier()\n",
    "clf = clf.fit(X, Y)"
   ]
  },
  {
   "cell_type": "code",
   "execution_count": 3,
   "id": "1718a8eb",
   "metadata": {},
   "outputs": [],
   "source": [
    "import numpy as np \n",
    "import pandas as pd"
   ]
  },
  {
   "cell_type": "code",
   "execution_count": 4,
   "id": "337fd782",
   "metadata": {},
   "outputs": [],
   "source": [
    "num_1 = np.array([140,1])"
   ]
  },
  {
   "cell_type": "code",
   "execution_count": 7,
   "id": "aff76421",
   "metadata": {},
   "outputs": [
    {
     "data": {
      "text/plain": [
       "array([0])"
      ]
     },
     "execution_count": 7,
     "metadata": {},
     "output_type": "execute_result"
    }
   ],
   "source": [
    "clf.predict([[140,1]])\n",
    "#Apple"
   ]
  },
  {
   "cell_type": "code",
   "execution_count": 15,
   "id": "ad2492e3",
   "metadata": {},
   "outputs": [],
   "source": [
    "# 0 = Smooth 1=Bumpy\n",
    "X = [[140], [130], [150], [170]]\n",
    "# 0 = apple 1 = Orange\n",
    "Y = [0, 0, 1, 1]\n",
    "clf = tree.DecisionTreeClassifier()\n",
    "clf = clf.fit(X, Y)"
   ]
  },
  {
   "cell_type": "code",
   "execution_count": 16,
   "id": "edb330ff",
   "metadata": {},
   "outputs": [
    {
     "data": {
      "text/plain": [
       "array([0])"
      ]
     },
     "execution_count": 16,
     "metadata": {},
     "output_type": "execute_result"
    }
   ],
   "source": [
    "clf.predict([[140]])\n",
    "#Prediction based on Weight\n",
    "#Apple"
   ]
  },
  {
   "cell_type": "code",
   "execution_count": 17,
   "id": "21c1c08c",
   "metadata": {},
   "outputs": [],
   "source": [
    "X = [[0], [0], [1], [1]]\n",
    "# 0 = apple 1 = Orange\n",
    "Y = [0, 0, 1, 1]\n",
    "clf = tree.DecisionTreeClassifier()\n",
    "clf = clf.fit(X, Y)"
   ]
  },
  {
   "cell_type": "code",
   "execution_count": 18,
   "id": "0e0caa41",
   "metadata": {},
   "outputs": [
    {
     "data": {
      "text/plain": [
       "array([1])"
      ]
     },
     "execution_count": 18,
     "metadata": {},
     "output_type": "execute_result"
    }
   ],
   "source": [
    "clf.predict([[1]])\n",
    "#Prediction based on Skin\n",
    "#Orange"
   ]
  },
  {
   "cell_type": "code",
   "execution_count": null,
   "id": "e2f14df8",
   "metadata": {},
   "outputs": [],
   "source": [
    "#Using all features is the best way to predict, however, weight also gave the same answer "
   ]
  },
  {
   "cell_type": "code",
   "execution_count": 19,
   "id": "b34b3f8c",
   "metadata": {},
   "outputs": [],
   "source": [
    "# 0 = M 1= F\n",
    "X = [[1, 15], [1, 25], [0, 32], [0, 40], [0, 12], [0, 14]]\n",
    "# 0 = Pokemon Go 1 = WhatsApp 2=SnapChat\n",
    "Y = [0, 1, 2, 1, 0, 0]\n",
    "clf = tree.DecisionTreeClassifier()\n",
    "clf = clf.fit(X, Y)"
   ]
  },
  {
   "cell_type": "code",
   "execution_count": 20,
   "id": "a45250c6",
   "metadata": {},
   "outputs": [
    {
     "data": {
      "text/plain": [
       "array([1])"
      ]
     },
     "execution_count": 20,
     "metadata": {},
     "output_type": "execute_result"
    }
   ],
   "source": [
    "clf.predict([[0,21]])\n",
    "#WhatsApp"
   ]
  },
  {
   "cell_type": "code",
   "execution_count": 21,
   "id": "79432f57",
   "metadata": {},
   "outputs": [
    {
     "data": {
      "text/plain": [
       "array([0])"
      ]
     },
     "execution_count": 21,
     "metadata": {},
     "output_type": "execute_result"
    }
   ],
   "source": [
    "clf.predict([[1,18]])\n",
    "#PokemonGo"
   ]
  },
  {
   "cell_type": "code",
   "execution_count": null,
   "id": "602abbe2",
   "metadata": {},
   "outputs": [],
   "source": []
  }
 ],
 "metadata": {
  "kernelspec": {
   "display_name": "Python 3 (ipykernel)",
   "language": "python",
   "name": "python3"
  },
  "language_info": {
   "codemirror_mode": {
    "name": "ipython",
    "version": 3
   },
   "file_extension": ".py",
   "mimetype": "text/x-python",
   "name": "python",
   "nbconvert_exporter": "python",
   "pygments_lexer": "ipython3",
   "version": "3.9.7"
  }
 },
 "nbformat": 4,
 "nbformat_minor": 5
}
