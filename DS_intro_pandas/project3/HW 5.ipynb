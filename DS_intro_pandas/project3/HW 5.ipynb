{
 "cells": [
  {
   "cell_type": "code",
   "execution_count": 1,
   "id": "ea06f158",
   "metadata": {},
   "outputs": [],
   "source": [
    "import numpy as np\n",
    "import pandas as pd "
   ]
  },
  {
   "cell_type": "code",
   "execution_count": 2,
   "id": "8aa70621",
   "metadata": {},
   "outputs": [],
   "source": [
    "lemon = pd.read_csv(\"Lemonade_Lab8.csv\")"
   ]
  },
  {
   "cell_type": "code",
   "execution_count": 3,
   "id": "6f80ec49",
   "metadata": {},
   "outputs": [],
   "source": [
    "lemon['sales'] = lemon['Lemon']+lemon['Orange']"
   ]
  },
  {
   "cell_type": "code",
   "execution_count": 4,
   "id": "90aa37b9",
   "metadata": {},
   "outputs": [],
   "source": [
    "lemon['Revenue']= lemon['sales']*lemon['Price']"
   ]
  },
  {
   "cell_type": "code",
   "execution_count": 5,
   "id": "dee5862b",
   "metadata": {},
   "outputs": [
    {
     "name": "stdout",
     "output_type": "stream",
     "text": [
      "       Date Location  Lemon  Orange  Temperature  Leaflets  Price  sales  \\\n",
      "0    7/1/16     Park     97      78           70        90   0.25    175   \n",
      "1    7/2/16     Park     98      67           72        90   0.25    165   \n",
      "2    7/3/16     Park    110      54           71       104   0.25    164   \n",
      "3    7/4/16    Beach    134      56           76        98   0.25    190   \n",
      "4    7/5/16    Beach    159      90           78       135   0.25    249   \n",
      "..      ...      ...    ...     ...          ...       ...    ...    ...   \n",
      "58  8/27/16     Park    129     100           83        90   0.35    229   \n",
      "59  8/28/16     Park     68      56           80       104   0.35    124   \n",
      "60  8/29/16     Park     63      77           82        98   0.35    140   \n",
      "61  8/30/16     Park     66      90           81       135   0.35    156   \n",
      "62  8/31/16    Beach     57      65           82        90   0.35    122   \n",
      "\n",
      "    Revenue  \n",
      "0     43.75  \n",
      "1     41.25  \n",
      "2     41.00  \n",
      "3     47.50  \n",
      "4     62.25  \n",
      "..      ...  \n",
      "58    80.15  \n",
      "59    43.40  \n",
      "60    49.00  \n",
      "61    54.60  \n",
      "62    42.70  \n",
      "\n",
      "[63 rows x 9 columns]\n"
     ]
    }
   ],
   "source": [
    "print(lemon)\n",
    "#Need to create sales, revenue columns "
   ]
  },
  {
   "cell_type": "code",
   "execution_count": 7,
   "id": "89d4f4ed",
   "metadata": {},
   "outputs": [],
   "source": [
    "import numpy as np\n",
    "\n",
    "from bokeh.plotting import figure, show, output_notebook\n",
    "import matplotlib as mpl\n",
    "\n",
    "\n",
    "\n",
    "graph = figure(title = \"Bokeh Scatter Graph\")\n",
    "      \n",
    "# the points to be plotted\n",
    "x=lemon['Temperature']\n",
    "y=lemon['sales']\n",
    "radii = lemon['Revenue']/100\n",
    "     \n",
    "# plotting the graph\n",
    "graph.scatter(x, y,radius=radii,fill_alpha=0.6)\n",
    "#graph.scatter(x = 'Temperature', y='sales',radius=radii,fill_alpha=0.6, source=source_Q7)\n",
    "      \n",
    "# displaying the model\n",
    "show(graph)"
   ]
  },
  {
   "cell_type": "code",
   "execution_count": null,
   "id": "bf120ec2",
   "metadata": {},
   "outputs": [],
   "source": [
    "from bokeh.io import output_file, show\n",
    "from bokeh.models import ColumnDataSource\n",
    "source_Q6 = ColumnDataSource(lemon)\n",
    "from bokeh.layouts import gridplot\n",
    "from bokeh.plotting import figure\n",
    "\n",
    "output_file(\"MarvinDavid-DS201X-HW5-plot2.html\")\n",
    "\n",
    "\n",
    "\n",
    "# create three plots\n",
    "s1 = figure(background_fill_color=\"#fafafa\")\n",
    "s1.circle(\"Revenue\", \"Leaflets\",source = source_Q6, size=12, alpha=0.8, color=\"#53777a\")\n",
    "\n",
    "s2 = figure(background_fill_color=\"#fafafa\")\n",
    "s2.circle(\"Revenue\", 'sales',source = source_Q6, size=12, alpha=0.8, color=\"#c02942\")\n",
    "\n",
    "s3 = figure(background_fill_color=\"#fafafa\")\n",
    "s3.circle(\"sales\", \"Temperature\",source = source_Q6, size=12, alpha=0.8, color=\"#d95b43\")\n",
    "\n",
    "# make a grid\n",
    "grid = gridplot([[s1, s2], [None, s3]], width=250, height=250)\n",
    "\n",
    "show(grid)"
   ]
  },
  {
   "cell_type": "code",
   "execution_count": null,
   "id": "4d764732",
   "metadata": {},
   "outputs": [],
   "source": []
  },
  {
   "cell_type": "code",
   "execution_count": null,
   "id": "9951f58e",
   "metadata": {},
   "outputs": [],
   "source": []
  },
  {
   "cell_type": "code",
   "execution_count": null,
   "id": "88f05caf",
   "metadata": {},
   "outputs": [],
   "source": []
  },
  {
   "cell_type": "code",
   "execution_count": null,
   "id": "d5fac688",
   "metadata": {},
   "outputs": [],
   "source": []
  }
 ],
 "metadata": {
  "kernelspec": {
   "display_name": "Python 3 (ipykernel)",
   "language": "python",
   "name": "python3"
  },
  "language_info": {
   "codemirror_mode": {
    "name": "ipython",
    "version": 3
   },
   "file_extension": ".py",
   "mimetype": "text/x-python",
   "name": "python",
   "nbconvert_exporter": "python",
   "pygments_lexer": "ipython3",
   "version": "3.9.7"
  }
 },
 "nbformat": 4,
 "nbformat_minor": 5
}
