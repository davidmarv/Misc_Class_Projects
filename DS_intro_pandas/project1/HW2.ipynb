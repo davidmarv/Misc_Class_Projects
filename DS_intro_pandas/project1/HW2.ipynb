{
 "cells": [
  {
   "cell_type": "code",
   "execution_count": 1,
   "id": "57bd2588",
   "metadata": {},
   "outputs": [],
   "source": [
    "import pandas as pd\n",
    "import matplotlib.pyplot as plt"
   ]
  },
  {
   "cell_type": "code",
   "execution_count": 2,
   "id": "dfb960a1",
   "metadata": {},
   "outputs": [],
   "source": [
    "df = pd.read_csv('Lemonade2016-2.csv')"
   ]
  },
  {
   "cell_type": "code",
   "execution_count": 3,
   "id": "d5e3cfe4",
   "metadata": {},
   "outputs": [
    {
     "data": {
      "text/html": [
       "<div>\n",
       "<style scoped>\n",
       "    .dataframe tbody tr th:only-of-type {\n",
       "        vertical-align: middle;\n",
       "    }\n",
       "\n",
       "    .dataframe tbody tr th {\n",
       "        vertical-align: top;\n",
       "    }\n",
       "\n",
       "    .dataframe thead th {\n",
       "        text-align: right;\n",
       "    }\n",
       "</style>\n",
       "<table border=\"1\" class=\"dataframe\">\n",
       "  <thead>\n",
       "    <tr style=\"text-align: right;\">\n",
       "      <th></th>\n",
       "      <th>Date</th>\n",
       "      <th>Location</th>\n",
       "      <th>Lemon</th>\n",
       "      <th>Orange</th>\n",
       "      <th>Temperature</th>\n",
       "      <th>Leaflets</th>\n",
       "      <th>Price</th>\n",
       "    </tr>\n",
       "  </thead>\n",
       "  <tbody>\n",
       "    <tr>\n",
       "      <th>0</th>\n",
       "      <td>7/1/2016</td>\n",
       "      <td>Park</td>\n",
       "      <td>97</td>\n",
       "      <td>67</td>\n",
       "      <td>70</td>\n",
       "      <td>90.0</td>\n",
       "      <td>0.25</td>\n",
       "    </tr>\n",
       "    <tr>\n",
       "      <th>1</th>\n",
       "      <td>7/2/2016</td>\n",
       "      <td>Park</td>\n",
       "      <td>98</td>\n",
       "      <td>67</td>\n",
       "      <td>72</td>\n",
       "      <td>90.0</td>\n",
       "      <td>0.25</td>\n",
       "    </tr>\n",
       "    <tr>\n",
       "      <th>2</th>\n",
       "      <td>7/3/2016</td>\n",
       "      <td>Park</td>\n",
       "      <td>110</td>\n",
       "      <td>77</td>\n",
       "      <td>71</td>\n",
       "      <td>104.0</td>\n",
       "      <td>0.25</td>\n",
       "    </tr>\n",
       "    <tr>\n",
       "      <th>3</th>\n",
       "      <td>7/4/2016</td>\n",
       "      <td>Beach</td>\n",
       "      <td>134</td>\n",
       "      <td>99</td>\n",
       "      <td>76</td>\n",
       "      <td>98.0</td>\n",
       "      <td>0.25</td>\n",
       "    </tr>\n",
       "    <tr>\n",
       "      <th>4</th>\n",
       "      <td>7/5/2016</td>\n",
       "      <td>Beach</td>\n",
       "      <td>159</td>\n",
       "      <td>118</td>\n",
       "      <td>78</td>\n",
       "      <td>135.0</td>\n",
       "      <td>0.25</td>\n",
       "    </tr>\n",
       "  </tbody>\n",
       "</table>\n",
       "</div>"
      ],
      "text/plain": [
       "       Date Location  Lemon  Orange  Temperature  Leaflets  Price\n",
       "0  7/1/2016     Park     97      67           70      90.0   0.25\n",
       "1  7/2/2016     Park     98      67           72      90.0   0.25\n",
       "2  7/3/2016     Park    110      77           71     104.0   0.25\n",
       "3  7/4/2016    Beach    134      99           76      98.0   0.25\n",
       "4  7/5/2016    Beach    159     118           78     135.0   0.25"
      ]
     },
     "execution_count": 3,
     "metadata": {},
     "output_type": "execute_result"
    }
   ],
   "source": [
    "df.head()"
   ]
  },
  {
   "cell_type": "code",
   "execution_count": 4,
   "id": "d6b92a0e",
   "metadata": {},
   "outputs": [
    {
     "data": {
      "text/html": [
       "<div>\n",
       "<style scoped>\n",
       "    .dataframe tbody tr th:only-of-type {\n",
       "        vertical-align: middle;\n",
       "    }\n",
       "\n",
       "    .dataframe tbody tr th {\n",
       "        vertical-align: top;\n",
       "    }\n",
       "\n",
       "    .dataframe thead th {\n",
       "        text-align: right;\n",
       "    }\n",
       "</style>\n",
       "<table border=\"1\" class=\"dataframe\">\n",
       "  <thead>\n",
       "    <tr style=\"text-align: right;\">\n",
       "      <th></th>\n",
       "      <th>Date</th>\n",
       "      <th>Location</th>\n",
       "      <th>Lemon</th>\n",
       "      <th>Orange</th>\n",
       "      <th>Temperature</th>\n",
       "      <th>Leaflets</th>\n",
       "      <th>Price</th>\n",
       "    </tr>\n",
       "  </thead>\n",
       "  <tbody>\n",
       "    <tr>\n",
       "      <th>0</th>\n",
       "      <td>False</td>\n",
       "      <td>False</td>\n",
       "      <td>False</td>\n",
       "      <td>False</td>\n",
       "      <td>False</td>\n",
       "      <td>False</td>\n",
       "      <td>False</td>\n",
       "    </tr>\n",
       "    <tr>\n",
       "      <th>1</th>\n",
       "      <td>False</td>\n",
       "      <td>False</td>\n",
       "      <td>False</td>\n",
       "      <td>False</td>\n",
       "      <td>False</td>\n",
       "      <td>False</td>\n",
       "      <td>False</td>\n",
       "    </tr>\n",
       "    <tr>\n",
       "      <th>2</th>\n",
       "      <td>False</td>\n",
       "      <td>False</td>\n",
       "      <td>False</td>\n",
       "      <td>False</td>\n",
       "      <td>False</td>\n",
       "      <td>False</td>\n",
       "      <td>False</td>\n",
       "    </tr>\n",
       "    <tr>\n",
       "      <th>3</th>\n",
       "      <td>False</td>\n",
       "      <td>False</td>\n",
       "      <td>False</td>\n",
       "      <td>False</td>\n",
       "      <td>False</td>\n",
       "      <td>False</td>\n",
       "      <td>False</td>\n",
       "    </tr>\n",
       "    <tr>\n",
       "      <th>4</th>\n",
       "      <td>False</td>\n",
       "      <td>False</td>\n",
       "      <td>False</td>\n",
       "      <td>False</td>\n",
       "      <td>False</td>\n",
       "      <td>False</td>\n",
       "      <td>False</td>\n",
       "    </tr>\n",
       "    <tr>\n",
       "      <th>5</th>\n",
       "      <td>False</td>\n",
       "      <td>False</td>\n",
       "      <td>False</td>\n",
       "      <td>False</td>\n",
       "      <td>False</td>\n",
       "      <td>False</td>\n",
       "      <td>False</td>\n",
       "    </tr>\n",
       "    <tr>\n",
       "      <th>6</th>\n",
       "      <td>False</td>\n",
       "      <td>False</td>\n",
       "      <td>False</td>\n",
       "      <td>False</td>\n",
       "      <td>False</td>\n",
       "      <td>False</td>\n",
       "      <td>False</td>\n",
       "    </tr>\n",
       "    <tr>\n",
       "      <th>7</th>\n",
       "      <td>False</td>\n",
       "      <td>False</td>\n",
       "      <td>False</td>\n",
       "      <td>False</td>\n",
       "      <td>False</td>\n",
       "      <td>False</td>\n",
       "      <td>False</td>\n",
       "    </tr>\n",
       "    <tr>\n",
       "      <th>8</th>\n",
       "      <td>True</td>\n",
       "      <td>False</td>\n",
       "      <td>False</td>\n",
       "      <td>False</td>\n",
       "      <td>False</td>\n",
       "      <td>False</td>\n",
       "      <td>False</td>\n",
       "    </tr>\n",
       "    <tr>\n",
       "      <th>9</th>\n",
       "      <td>False</td>\n",
       "      <td>False</td>\n",
       "      <td>False</td>\n",
       "      <td>False</td>\n",
       "      <td>False</td>\n",
       "      <td>False</td>\n",
       "      <td>False</td>\n",
       "    </tr>\n",
       "    <tr>\n",
       "      <th>10</th>\n",
       "      <td>False</td>\n",
       "      <td>False</td>\n",
       "      <td>False</td>\n",
       "      <td>False</td>\n",
       "      <td>False</td>\n",
       "      <td>False</td>\n",
       "      <td>False</td>\n",
       "    </tr>\n",
       "    <tr>\n",
       "      <th>11</th>\n",
       "      <td>False</td>\n",
       "      <td>False</td>\n",
       "      <td>False</td>\n",
       "      <td>False</td>\n",
       "      <td>False</td>\n",
       "      <td>False</td>\n",
       "      <td>False</td>\n",
       "    </tr>\n",
       "    <tr>\n",
       "      <th>12</th>\n",
       "      <td>False</td>\n",
       "      <td>False</td>\n",
       "      <td>False</td>\n",
       "      <td>False</td>\n",
       "      <td>False</td>\n",
       "      <td>False</td>\n",
       "      <td>False</td>\n",
       "    </tr>\n",
       "    <tr>\n",
       "      <th>13</th>\n",
       "      <td>False</td>\n",
       "      <td>False</td>\n",
       "      <td>False</td>\n",
       "      <td>False</td>\n",
       "      <td>False</td>\n",
       "      <td>False</td>\n",
       "      <td>False</td>\n",
       "    </tr>\n",
       "    <tr>\n",
       "      <th>14</th>\n",
       "      <td>False</td>\n",
       "      <td>False</td>\n",
       "      <td>False</td>\n",
       "      <td>False</td>\n",
       "      <td>False</td>\n",
       "      <td>False</td>\n",
       "      <td>False</td>\n",
       "    </tr>\n",
       "    <tr>\n",
       "      <th>15</th>\n",
       "      <td>False</td>\n",
       "      <td>False</td>\n",
       "      <td>False</td>\n",
       "      <td>False</td>\n",
       "      <td>False</td>\n",
       "      <td>False</td>\n",
       "      <td>False</td>\n",
       "    </tr>\n",
       "    <tr>\n",
       "      <th>16</th>\n",
       "      <td>False</td>\n",
       "      <td>False</td>\n",
       "      <td>False</td>\n",
       "      <td>False</td>\n",
       "      <td>False</td>\n",
       "      <td>False</td>\n",
       "      <td>False</td>\n",
       "    </tr>\n",
       "    <tr>\n",
       "      <th>17</th>\n",
       "      <td>False</td>\n",
       "      <td>False</td>\n",
       "      <td>False</td>\n",
       "      <td>False</td>\n",
       "      <td>False</td>\n",
       "      <td>False</td>\n",
       "      <td>False</td>\n",
       "    </tr>\n",
       "    <tr>\n",
       "      <th>18</th>\n",
       "      <td>False</td>\n",
       "      <td>False</td>\n",
       "      <td>False</td>\n",
       "      <td>False</td>\n",
       "      <td>False</td>\n",
       "      <td>False</td>\n",
       "      <td>False</td>\n",
       "    </tr>\n",
       "    <tr>\n",
       "      <th>19</th>\n",
       "      <td>False</td>\n",
       "      <td>False</td>\n",
       "      <td>False</td>\n",
       "      <td>False</td>\n",
       "      <td>False</td>\n",
       "      <td>False</td>\n",
       "      <td>False</td>\n",
       "    </tr>\n",
       "    <tr>\n",
       "      <th>20</th>\n",
       "      <td>False</td>\n",
       "      <td>False</td>\n",
       "      <td>False</td>\n",
       "      <td>False</td>\n",
       "      <td>False</td>\n",
       "      <td>True</td>\n",
       "      <td>False</td>\n",
       "    </tr>\n",
       "    <tr>\n",
       "      <th>21</th>\n",
       "      <td>False</td>\n",
       "      <td>False</td>\n",
       "      <td>False</td>\n",
       "      <td>False</td>\n",
       "      <td>False</td>\n",
       "      <td>False</td>\n",
       "      <td>False</td>\n",
       "    </tr>\n",
       "    <tr>\n",
       "      <th>22</th>\n",
       "      <td>False</td>\n",
       "      <td>False</td>\n",
       "      <td>False</td>\n",
       "      <td>False</td>\n",
       "      <td>False</td>\n",
       "      <td>False</td>\n",
       "      <td>False</td>\n",
       "    </tr>\n",
       "    <tr>\n",
       "      <th>23</th>\n",
       "      <td>False</td>\n",
       "      <td>False</td>\n",
       "      <td>False</td>\n",
       "      <td>False</td>\n",
       "      <td>False</td>\n",
       "      <td>False</td>\n",
       "      <td>False</td>\n",
       "    </tr>\n",
       "    <tr>\n",
       "      <th>24</th>\n",
       "      <td>False</td>\n",
       "      <td>False</td>\n",
       "      <td>False</td>\n",
       "      <td>False</td>\n",
       "      <td>False</td>\n",
       "      <td>False</td>\n",
       "      <td>False</td>\n",
       "    </tr>\n",
       "    <tr>\n",
       "      <th>25</th>\n",
       "      <td>False</td>\n",
       "      <td>False</td>\n",
       "      <td>False</td>\n",
       "      <td>False</td>\n",
       "      <td>False</td>\n",
       "      <td>False</td>\n",
       "      <td>False</td>\n",
       "    </tr>\n",
       "    <tr>\n",
       "      <th>26</th>\n",
       "      <td>False</td>\n",
       "      <td>False</td>\n",
       "      <td>False</td>\n",
       "      <td>False</td>\n",
       "      <td>False</td>\n",
       "      <td>False</td>\n",
       "      <td>False</td>\n",
       "    </tr>\n",
       "    <tr>\n",
       "      <th>27</th>\n",
       "      <td>False</td>\n",
       "      <td>False</td>\n",
       "      <td>False</td>\n",
       "      <td>False</td>\n",
       "      <td>False</td>\n",
       "      <td>False</td>\n",
       "      <td>False</td>\n",
       "    </tr>\n",
       "    <tr>\n",
       "      <th>28</th>\n",
       "      <td>False</td>\n",
       "      <td>False</td>\n",
       "      <td>False</td>\n",
       "      <td>False</td>\n",
       "      <td>False</td>\n",
       "      <td>False</td>\n",
       "      <td>False</td>\n",
       "    </tr>\n",
       "    <tr>\n",
       "      <th>29</th>\n",
       "      <td>False</td>\n",
       "      <td>False</td>\n",
       "      <td>False</td>\n",
       "      <td>False</td>\n",
       "      <td>False</td>\n",
       "      <td>False</td>\n",
       "      <td>False</td>\n",
       "    </tr>\n",
       "    <tr>\n",
       "      <th>30</th>\n",
       "      <td>False</td>\n",
       "      <td>False</td>\n",
       "      <td>False</td>\n",
       "      <td>False</td>\n",
       "      <td>False</td>\n",
       "      <td>False</td>\n",
       "      <td>False</td>\n",
       "    </tr>\n",
       "    <tr>\n",
       "      <th>31</th>\n",
       "      <td>False</td>\n",
       "      <td>False</td>\n",
       "      <td>False</td>\n",
       "      <td>False</td>\n",
       "      <td>False</td>\n",
       "      <td>False</td>\n",
       "      <td>False</td>\n",
       "    </tr>\n",
       "  </tbody>\n",
       "</table>\n",
       "</div>"
      ],
      "text/plain": [
       "     Date  Location  Lemon  Orange  Temperature  Leaflets  Price\n",
       "0   False     False  False   False        False     False  False\n",
       "1   False     False  False   False        False     False  False\n",
       "2   False     False  False   False        False     False  False\n",
       "3   False     False  False   False        False     False  False\n",
       "4   False     False  False   False        False     False  False\n",
       "5   False     False  False   False        False     False  False\n",
       "6   False     False  False   False        False     False  False\n",
       "7   False     False  False   False        False     False  False\n",
       "8    True     False  False   False        False     False  False\n",
       "9   False     False  False   False        False     False  False\n",
       "10  False     False  False   False        False     False  False\n",
       "11  False     False  False   False        False     False  False\n",
       "12  False     False  False   False        False     False  False\n",
       "13  False     False  False   False        False     False  False\n",
       "14  False     False  False   False        False     False  False\n",
       "15  False     False  False   False        False     False  False\n",
       "16  False     False  False   False        False     False  False\n",
       "17  False     False  False   False        False     False  False\n",
       "18  False     False  False   False        False     False  False\n",
       "19  False     False  False   False        False     False  False\n",
       "20  False     False  False   False        False      True  False\n",
       "21  False     False  False   False        False     False  False\n",
       "22  False     False  False   False        False     False  False\n",
       "23  False     False  False   False        False     False  False\n",
       "24  False     False  False   False        False     False  False\n",
       "25  False     False  False   False        False     False  False\n",
       "26  False     False  False   False        False     False  False\n",
       "27  False     False  False   False        False     False  False\n",
       "28  False     False  False   False        False     False  False\n",
       "29  False     False  False   False        False     False  False\n",
       "30  False     False  False   False        False     False  False\n",
       "31  False     False  False   False        False     False  False"
      ]
     },
     "execution_count": 4,
     "metadata": {},
     "output_type": "execute_result"
    }
   ],
   "source": [
    "df.isnull()"
   ]
  },
  {
   "cell_type": "code",
   "execution_count": 5,
   "id": "08f6ce57",
   "metadata": {},
   "outputs": [
    {
     "data": {
      "text/plain": [
       "0     False\n",
       "1     False\n",
       "2     False\n",
       "3     False\n",
       "4     False\n",
       "5     False\n",
       "6      True\n",
       "7     False\n",
       "8     False\n",
       "9     False\n",
       "10    False\n",
       "11    False\n",
       "12    False\n",
       "13    False\n",
       "14    False\n",
       "15    False\n",
       "16    False\n",
       "17    False\n",
       "18    False\n",
       "19    False\n",
       "20    False\n",
       "21    False\n",
       "22    False\n",
       "23    False\n",
       "24    False\n",
       "25    False\n",
       "26    False\n",
       "27    False\n",
       "28    False\n",
       "29    False\n",
       "30    False\n",
       "31    False\n",
       "dtype: bool"
      ]
     },
     "execution_count": 5,
     "metadata": {},
     "output_type": "execute_result"
    }
   ],
   "source": [
    "df.duplicated()"
   ]
  },
  {
   "cell_type": "code",
   "execution_count": 12,
   "id": "afd57540",
   "metadata": {},
   "outputs": [],
   "source": [
    "df = df.drop_duplicates(subset=None, keep='first', inplace=False, ignore_index=True)"
   ]
  },
  {
   "cell_type": "code",
   "execution_count": 13,
   "id": "e5fcdb3a",
   "metadata": {
    "scrolled": true
   },
   "outputs": [],
   "source": [
    "df['Leaflets'] = df['Leaflets'].fillna(df['Leaflets'].median())"
   ]
  },
  {
   "cell_type": "code",
   "execution_count": 14,
   "id": "c99adc4f",
   "metadata": {},
   "outputs": [],
   "source": [
    "df['Date'] = df['Date'].fillna('7/8/2016')"
   ]
  },
  {
   "cell_type": "code",
   "execution_count": 15,
   "id": "a81c587f",
   "metadata": {},
   "outputs": [
    {
     "name": "stdout",
     "output_type": "stream",
     "text": [
      "         Date Location  Lemon  Orange  Temperature  Leaflets  Price\n",
      "0    7/1/2016     Park     97      67           70      90.0   0.25\n",
      "1    7/2/2016     Park     98      67           72      90.0   0.25\n",
      "2    7/3/2016     Park    110      77           71     104.0   0.25\n",
      "3    7/4/2016    Beach    134      99           76      98.0   0.25\n",
      "4    7/5/2016    Beach    159     118           78     135.0   0.25\n",
      "5    7/6/2016    Beach    103      69           82      90.0   0.25\n",
      "6    7/7/2016    Beach    143     101           81     135.0   0.25\n",
      "7    7/8/2016    Beach    123      86           82     113.0   0.25\n",
      "8    7/9/2016    Beach    134      95           80     126.0   0.25\n",
      "9   7/10/2016    Beach    140      98           82     131.0   0.25\n",
      "10  7/11/2016    Beach    162     120           83     135.0   0.25\n",
      "11  7/12/2016    Beach    130      95           84      99.0   0.25\n",
      "12  7/13/2016    Beach    109      75           77      99.0   0.25\n",
      "13  7/14/2016    Beach    122      85           78     113.0   0.25\n",
      "14  7/15/2016    Beach     98      62           75     108.0   0.50\n",
      "15  7/16/2016    Beach     81      50           74      90.0   0.50\n",
      "16  7/17/2016    Beach    115      76           77     126.0   0.50\n",
      "17  7/18/2016     Park    131      92           81     122.0   0.50\n",
      "18  7/19/2016     Park    122      85           78     113.0   0.50\n",
      "19  7/20/2016     Park     71      42           70     108.0   0.50\n",
      "20  7/21/2016     Park     83      50           77      90.0   0.50\n",
      "21  7/22/2016     Park    112      75           80     108.0   0.50\n",
      "22  7/23/2016     Park    120      82           81     117.0   0.50\n",
      "23  7/24/2016     Park    121      82           82     117.0   0.50\n",
      "24  7/25/2016     Park    156     113           84     135.0   0.50\n",
      "25  7/26/2016     Park    176     129           83     158.0   0.35\n",
      "26  7/27/2016     Park    104      68           80      99.0   0.35\n",
      "27  7/28/2016     Park     96      63           82      90.0   0.35\n",
      "28  7/29/2016     Park    100      66           81      95.0   0.35\n",
      "29  7/30/2016    Beach     88      57           82      81.0   0.35\n",
      "30  7/31/2016    Beach     76      47           82      68.0   0.35\n"
     ]
    }
   ],
   "source": [
    "print(df)"
   ]
  },
  {
   "cell_type": "code",
   "execution_count": 16,
   "id": "dfe04e88",
   "metadata": {},
   "outputs": [],
   "source": [
    "sales = df[\"Lemon\"] + df[\"Orange\"]\n",
    "df[\"Sales\"]= sales"
   ]
  },
  {
   "cell_type": "code",
   "execution_count": 17,
   "id": "4350ca6a",
   "metadata": {},
   "outputs": [],
   "source": [
    "revenue = df[\"Sales\"] * df[\"Price\"]\n",
    "df[\"Revenue\"]=revenue"
   ]
  },
  {
   "cell_type": "code",
   "execution_count": 18,
   "id": "08c47ca1",
   "metadata": {},
   "outputs": [
    {
     "name": "stdout",
     "output_type": "stream",
     "text": [
      "         Date Location  Lemon  Orange  Temperature  Leaflets  Price  Sales  \\\n",
      "0    7/1/2016     Park     97      67           70      90.0   0.25    164   \n",
      "1    7/2/2016     Park     98      67           72      90.0   0.25    165   \n",
      "2    7/3/2016     Park    110      77           71     104.0   0.25    187   \n",
      "3    7/4/2016    Beach    134      99           76      98.0   0.25    233   \n",
      "4    7/5/2016    Beach    159     118           78     135.0   0.25    277   \n",
      "5    7/6/2016    Beach    103      69           82      90.0   0.25    172   \n",
      "6    7/7/2016    Beach    143     101           81     135.0   0.25    244   \n",
      "7    7/8/2016    Beach    123      86           82     113.0   0.25    209   \n",
      "8    7/9/2016    Beach    134      95           80     126.0   0.25    229   \n",
      "9   7/10/2016    Beach    140      98           82     131.0   0.25    238   \n",
      "10  7/11/2016    Beach    162     120           83     135.0   0.25    282   \n",
      "11  7/12/2016    Beach    130      95           84      99.0   0.25    225   \n",
      "12  7/13/2016    Beach    109      75           77      99.0   0.25    184   \n",
      "13  7/14/2016    Beach    122      85           78     113.0   0.25    207   \n",
      "14  7/15/2016    Beach     98      62           75     108.0   0.50    160   \n",
      "15  7/16/2016    Beach     81      50           74      90.0   0.50    131   \n",
      "16  7/17/2016    Beach    115      76           77     126.0   0.50    191   \n",
      "17  7/18/2016     Park    131      92           81     122.0   0.50    223   \n",
      "18  7/19/2016     Park    122      85           78     113.0   0.50    207   \n",
      "19  7/20/2016     Park     71      42           70     108.0   0.50    113   \n",
      "20  7/21/2016     Park     83      50           77      90.0   0.50    133   \n",
      "21  7/22/2016     Park    112      75           80     108.0   0.50    187   \n",
      "22  7/23/2016     Park    120      82           81     117.0   0.50    202   \n",
      "23  7/24/2016     Park    121      82           82     117.0   0.50    203   \n",
      "24  7/25/2016     Park    156     113           84     135.0   0.50    269   \n",
      "25  7/26/2016     Park    176     129           83     158.0   0.35    305   \n",
      "26  7/27/2016     Park    104      68           80      99.0   0.35    172   \n",
      "27  7/28/2016     Park     96      63           82      90.0   0.35    159   \n",
      "28  7/29/2016     Park    100      66           81      95.0   0.35    166   \n",
      "29  7/30/2016    Beach     88      57           82      81.0   0.35    145   \n",
      "30  7/31/2016    Beach     76      47           82      68.0   0.35    123   \n",
      "\n",
      "    Revenue  \n",
      "0     41.00  \n",
      "1     41.25  \n",
      "2     46.75  \n",
      "3     58.25  \n",
      "4     69.25  \n",
      "5     43.00  \n",
      "6     61.00  \n",
      "7     52.25  \n",
      "8     57.25  \n",
      "9     59.50  \n",
      "10    70.50  \n",
      "11    56.25  \n",
      "12    46.00  \n",
      "13    51.75  \n",
      "14    80.00  \n",
      "15    65.50  \n",
      "16    95.50  \n",
      "17   111.50  \n",
      "18   103.50  \n",
      "19    56.50  \n",
      "20    66.50  \n",
      "21    93.50  \n",
      "22   101.00  \n",
      "23   101.50  \n",
      "24   134.50  \n",
      "25   106.75  \n",
      "26    60.20  \n",
      "27    55.65  \n",
      "28    58.10  \n",
      "29    50.75  \n",
      "30    43.05  \n"
     ]
    }
   ],
   "source": [
    "print(df)"
   ]
  },
  {
   "cell_type": "code",
   "execution_count": 19,
   "id": "ff574cb3",
   "metadata": {
    "scrolled": true
   },
   "outputs": [
    {
     "data": {
      "text/plain": [
       "<AxesSubplot:xlabel='Leaflets', ylabel='Sales'>"
      ]
     },
     "execution_count": 19,
     "metadata": {},
     "output_type": "execute_result"
    },
    {
     "data": {
      "image/png": "[encoded data removed]",
      "text/plain": [
       "<Figure size 432x288 with 1 Axes>"
      ]
     },
     "metadata": {
      "needs_background": "light"
     },
     "output_type": "display_data"
    }
   ],
   "source": [
    "df.plot.scatter(x=5, y=7)"
   ]
  },
  {
   "cell_type": "code",
   "execution_count": 20,
   "id": "9d68705b",
   "metadata": {},
   "outputs": [
    {
     "data": {
      "text/plain": [
       "<AxesSubplot:ylabel='Frequency'>"
      ]
     },
     "execution_count": 20,
     "metadata": {},
     "output_type": "execute_result"
    },
    {
     "data": {
      "image/png": "[encoded data removed]",
      "text/plain": [
       "<Figure size 432x288 with 1 Axes>"
      ]
     },
     "metadata": {
      "needs_background": "light"
     },
     "output_type": "display_data"
    }
   ],
   "source": [
    "df.plot.hist(y=8, bins = 10)"
   ]
  },
  {
   "cell_type": "code",
   "execution_count": 21,
   "id": "5e2e70e9",
   "metadata": {},
   "outputs": [
    {
     "data": {
      "text/plain": [
       "<AxesSubplot:title={'center':'Sales'}, xlabel='Location'>"
      ]
     },
     "execution_count": 21,
     "metadata": {},
     "output_type": "execute_result"
    },
    {
     "data": {
      "image/png": "[encoded data removed]",
      "text/plain": [
       "<Figure size 432x288 with 1 Axes>"
      ]
     },
     "metadata": {
      "needs_background": "light"
     },
     "output_type": "display_data"
    }
   ],
   "source": [
    "df.boxplot(by='Location', column=['Sales'])"
   ]
  },
  {
   "cell_type": "code",
   "execution_count": 22,
   "id": "620c7f18",
   "metadata": {},
   "outputs": [],
   "source": [
    "df2 = df.loc[(df['Temperature']>75)]"
   ]
  },
  {
   "cell_type": "code",
   "execution_count": 23,
   "id": "c6ddc78e",
   "metadata": {},
   "outputs": [
    {
     "data": {
      "text/plain": [
       "<AxesSubplot:title={'center':'Sales'}, xlabel='Location'>"
      ]
     },
     "execution_count": 23,
     "metadata": {},
     "output_type": "execute_result"
    },
    {
     "data": {
      "image/png": "[encoded data removed]",
      "text/plain": [
       "<Figure size 432x288 with 1 Axes>"
      ]
     },
     "metadata": {
      "needs_background": "light"
     },
     "output_type": "display_data"
    }
   ],
   "source": [
    "df2.boxplot(by='Location', column=['Sales'])"
   ]
  },
  {
   "cell_type": "code",
   "execution_count": 24,
   "id": "29e17e94",
   "metadata": {},
   "outputs": [],
   "source": [
    "import seaborn"
   ]
  },
  {
   "cell_type": "code",
   "execution_count": 25,
   "id": "225fe669",
   "metadata": {},
   "outputs": [
    {
     "data": {
      "text/plain": [
       "<seaborn.axisgrid.PairGrid at 0x1c6e52108e0>"
      ]
     },
     "execution_count": 25,
     "metadata": {},
     "output_type": "execute_result"
    },
    {
     "data": {
      "image/png": "[encoded data removed]",
      "text/plain": [
       "<Figure size 607x540 with 12 Axes>"
      ]
     },
     "metadata": {
      "needs_background": "light"
     },
     "output_type": "display_data"
    }
   ],
   "source": [
    "seaborn.pairplot(df, x_vars=[\"Revenue\",\"Temperature\",\"Leaflets\"], y_vars=[\"Revenue\",\"Temperature\",\"Leaflets\"], hue=\"Location\",diag_kind=\"hist\")"
   ]
  },
  {
   "cell_type": "code",
   "execution_count": null,
   "id": "7be0dfd9",
   "metadata": {},
   "outputs": [],
   "source": []
  }
 ],
 "metadata": {
  "kernelspec": {
   "display_name": "Python 3 (ipykernel)",
   "language": "python",
   "name": "python3"
  },
  "language_info": {
   "codemirror_mode": {
    "name": "ipython",
    "version": 3
   },
   "file_extension": ".py",
   "mimetype": "text/x-python",
   "name": "python",
   "nbconvert_exporter": "python",
   "pygments_lexer": "ipython3",
   "version": "3.9.7"
  }
 },
 "nbformat": 4,
 "nbformat_minor": 5
}
